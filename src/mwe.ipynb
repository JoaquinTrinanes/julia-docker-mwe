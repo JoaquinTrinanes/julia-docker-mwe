{
 "cells": [
  {
   "cell_type": "code",
   "execution_count": null,
   "id": "2c564050-3cee-4077-871c-1e6317b4f8a7",
   "metadata": {},
   "outputs": [],
   "source": [
    "import Pkg;\n",
    "Pkg.add(\"ScikitLearn\");"
   ]
  },
  {
   "cell_type": "code",
   "execution_count": null,
   "id": "9e9f607b-475b-47a9-aebb-ab8ef5dba979",
   "metadata": {},
   "outputs": [],
   "source": [
    "using ScikitLearn;\n",
    "@sk_import svm: SVC"
   ]
  }
 ],
 "metadata": {
  "kernelspec": {
   "display_name": "Julia 1.8.2",
   "language": "julia",
   "name": "julia-1.8"
  },
  "language_info": {
   "file_extension": ".jl",
   "mimetype": "application/julia",
   "name": "julia",
   "version": "1.8.2"
  }
 },
 "nbformat": 4,
 "nbformat_minor": 5
}
