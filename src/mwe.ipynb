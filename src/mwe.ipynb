{
 "cells": [
  {
   "cell_type": "code",
   "execution_count": null,
   "id": "bf121425-2627-4b6e-ba82-0019e59984bc",
   "metadata": {},
   "outputs": [],
   "source": [
    "using Pkg;"
   ]
  },
  {
   "cell_type": "code",
   "execution_count": null,
   "id": "5a955b74-061f-4eca-b2da-9e5758d5c1ef",
   "metadata": {},
   "outputs": [],
   "source": [
    "ENV[\"PYTHON\"] = Sys.which(\"python3\");\n",
    "ENV[\"PYCALL_JL_RUNTIME_PYTHON\"] = ENV[\"PYTHON\"];\n",
    "Pkg.build(\"PyCall\");"
   ]
  },
  {
   "cell_type": "code",
   "execution_count": null,
   "id": "9e9f607b-475b-47a9-aebb-ab8ef5dba979",
   "metadata": {},
   "outputs": [],
   "source": [
    "using ScikitLearn;\n",
    "@sk_import svm: SVC"
   ]
  }
 ],
 "metadata": {
  "kernelspec": {
   "display_name": "Julia 1.8.2",
   "language": "julia",
   "name": "julia-1.8"
  },
  "language_info": {
   "file_extension": ".jl",
   "mimetype": "application/julia",
   "name": "julia",
   "version": "1.8.2"
  }
 },
 "nbformat": 4,
 "nbformat_minor": 5
}
